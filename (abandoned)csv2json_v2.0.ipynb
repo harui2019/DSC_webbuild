{
 "metadata": {
  "language_info": {
   "codemirror_mode": {
    "name": "ipython",
    "version": 3
   },
   "file_extension": ".py",
   "mimetype": "text/x-python",
   "name": "python",
   "nbconvert_exporter": "python",
   "pygments_lexer": "ipython3",
   "version": "3.8.5-final"
  },
  "orig_nbformat": 2,
  "kernelspec": {
   "name": "python3",
   "display_name": "Python 3",
   "language": "python"
  }
 },
 "nbformat": 4,
 "nbformat_minor": 2,
 "cells": [
  {
   "cell_type": "code",
   "execution_count": null,
   "metadata": {},
   "outputs": [],
   "source": [
    "import pandas as pd"
   ]
  },
  {
   "cell_type": "code",
   "execution_count": null,
   "metadata": {},
   "outputs": [],
   "source": [
    "def output(data, name = \"mapeal_data.txt\"):\n",
    "    index = list(data.index)\n",
    "    columns = list(data.columns)\n",
    "    temp = ''\n",
    "    script = []\n",
    "\n",
    "    def tooltip_pinout(data):\n",
    "        if type(data) != pd.DataFrame:\n",
    "            raise TypeError\n",
    "        tooltip_pin = []\n",
    "        for i in list(data.columns):\n",
    "            # print(len(i))\n",
    "            if len(i) > 6:\n",
    "                # print(i[0:7])\n",
    "                if i[0:7] == 'tooltip':\n",
    "                    tooltip_pin.append(True)\n",
    "                else:\n",
    "                    tooltip_pin.append(False)\n",
    "            else:\n",
    "                tooltip_pin.append(False)\n",
    "        return tooltip_pin\n",
    "    tooltip_pinout = tooltip_pinout(data)\n",
    "\n",
    "    def tooltip_part(data):\n",
    "        tooltip_script = {}\n",
    "        temp1 = ''\n",
    "        for i in range(data.shape[0]):\n",
    "            temp1 = '\\t' + '\"tooltip\":' + \"{\" + \"\\n\"\n",
    "            for j in range(data.shape[1]):\n",
    "                if tooltip_pinout[j]:\n",
    "                    temp1 += '\\t'*2 + '\"' + str(columns[j][8:]) + '\": ' + \"\\n\"\n",
    "                    temp1 +=(\n",
    "                         '\\t'*3 + '\"' + str(data.iloc[i][j]) + '\"' + \n",
    "                         (lambda j: \",\\n\" if j < data.shape[1]-1 else \"\\n\"+'\\t'*2+\"}\")(j))\n",
    "                tooltip_script[index[i]] = temp1\n",
    "            #print(temp1, index[i])\n",
    "        return tooltip_script\n",
    "    tooltip_script = tooltip_part(data)\n",
    "\n",
    "    for i in range(data.shape[0]):\n",
    "        temp = '\"' + str(index[i]) + '\": {' + \"\\n\"\n",
    "        for j in range(data.shape[1]):\n",
    "            if tooltip_pinout[j]:\n",
    "                temp += tooltip_script[index[i]] + (lambda j: \",\" if j < data.shape[1]-1 else \"\")(j)\n",
    "            else:\n",
    "                temp += ('\\t' + '\"' + str(columns[j]) + '\"' + ':' + '\"' + str(data.iloc[i][j]) + '\"' + (lambda j: \",\\n\" if j < data.shape[1]-1 else \"\\n\"+'\\t'+\"}\")(j))\n",
    "        temp += (lambda i: \"\\n\"+'\\t'+\"},\" if i < data.shape[0]-1 else \"\\n\"+'\\t'+\"}\" )(i)\n",
    "        #print(temp)\n",
    "        script.append(temp)\n",
    "\n",
    "    datafile = open(name, 'w+', encoding = \"utf-8\")\n",
    "    datafile.write(\"{\\n\")\n",
    "    for i in script:\n",
    "        datafile.write(\"\\t\")\n",
    "        datafile.write(i)\n",
    "        datafile.write(\"\\n\")\n",
    "    datafile.write(\"}\")\n",
    "    datafile.close()\n",
    "    print(name + \" has saved\")\n",
    "\n",
    "    return script\n",
    "\n"
   ]
  },
  {
   "cell_type": "code",
   "execution_count": 1,
   "metadata": {},
   "outputs": [],
   "source": [
    "sampledict = {\n",
    "    \"1\": \"11\",\n",
    "    \"2\": {\n",
    "        \"21\": \"211\",\n",
    "        \"22\": \"221\"\n",
    "    }\n",
    "}"
   ]
  },
  {
   "cell_type": "code",
   "execution_count": 5,
   "metadata": {},
   "outputs": [
    {
     "output_type": "execute_result",
     "data": {
      "text/plain": [
       "\"{'1': '11', '2': {'21': '211', '22': '221'}}\""
      ]
     },
     "metadata": {},
     "execution_count": 5
    }
   ],
   "source": [
    "str(sampledict)"
   ]
  },
  {
   "cell_type": "code",
   "execution_count": 2,
   "metadata": {},
   "outputs": [
    {
     "output_type": "stream",
     "name": "stdout",
     "text": [
      "{'1': '11', '2': {'21': '211', '22': '221'}}\n"
     ]
    }
   ],
   "source": [
    "print(sampledict)"
   ]
  },
  {
   "cell_type": "code",
   "execution_count": 4,
   "metadata": {},
   "outputs": [
    {
     "output_type": "error",
     "ename": "TypeError",
     "evalue": "write() argument must be str, not dict",
     "traceback": [
      "\u001b[1;31m---------------------------------------------------------------------------\u001b[0m",
      "\u001b[1;31mTypeError\u001b[0m                                 Traceback (most recent call last)",
      "\u001b[1;32m<ipython-input-4-586be4ffe6f3>\u001b[0m in \u001b[0;36m<module>\u001b[1;34m\u001b[0m\n\u001b[0;32m      1\u001b[0m \u001b[0mtestfile\u001b[0m \u001b[1;33m=\u001b[0m \u001b[0mopen\u001b[0m\u001b[1;33m(\u001b[0m\u001b[1;34m\"905.txt\"\u001b[0m\u001b[1;33m,\u001b[0m \u001b[1;34m'w+'\u001b[0m\u001b[1;33m,\u001b[0m \u001b[0mencoding\u001b[0m \u001b[1;33m=\u001b[0m \u001b[1;34m\"utf-8\"\u001b[0m\u001b[1;33m)\u001b[0m\u001b[1;33m\u001b[0m\u001b[1;33m\u001b[0m\u001b[0m\n\u001b[1;32m----> 2\u001b[1;33m \u001b[0mtestfile\u001b[0m\u001b[1;33m.\u001b[0m\u001b[0mwrite\u001b[0m\u001b[1;33m(\u001b[0m\u001b[0msampledict\u001b[0m\u001b[1;33m)\u001b[0m\u001b[1;33m\u001b[0m\u001b[1;33m\u001b[0m\u001b[0m\n\u001b[0m\u001b[0;32m      3\u001b[0m \u001b[0mtestfile\u001b[0m\u001b[1;33m.\u001b[0m\u001b[0mclose\u001b[0m\u001b[1;33m(\u001b[0m\u001b[1;33m)\u001b[0m\u001b[1;33m\u001b[0m\u001b[1;33m\u001b[0m\u001b[0m\n",
      "\u001b[1;31mTypeError\u001b[0m: write() argument must be str, not dict"
     ]
    }
   ],
   "source": [
    "testfile = open(\"905.txt\", 'w+', encoding = \"utf-8\")\n",
    "testfile.write(sampledict)\n",
    "testfile.close()"
   ]
  },
  {
   "cell_type": "code",
   "execution_count": null,
   "metadata": {},
   "outputs": [],
   "source": []
  }
 ]
}