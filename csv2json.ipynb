{
 "metadata": {
  "language_info": {
   "codemirror_mode": {
    "name": "ipython",
    "version": 3
   },
   "file_extension": ".py",
   "mimetype": "text/x-python",
   "name": "python",
   "nbconvert_exporter": "python",
   "pygments_lexer": "ipython3",
   "version": "3.8.5-final"
  },
  "orig_nbformat": 2,
  "kernelspec": {
   "name": "python3",
   "display_name": "Python 3",
   "language": "python"
  }
 },
 "nbformat": 4,
 "nbformat_minor": 2,
 "cells": [
  {
   "cell_type": "code",
   "execution_count": 5,
   "metadata": {},
   "outputs": [],
   "source": [
    "import pandas as pd"
   ]
  },
  {
   "cell_type": "code",
   "execution_count": 6,
   "metadata": {},
   "outputs": [
    {
     "output_type": "execute_result",
     "data": {
      "text/plain": [
       "                cityname   value href  \\\n",
       "id                                      \n",
       "TWN1156   Kaohsiung City       0    #   \n",
       "TWN1158         Pingtung       0    #   \n",
       "TWN1160      Tainan City       0    #   \n",
       "TWN1161     Hsinchu City       0    #   \n",
       "TWN1162          Hsinchu       0    #   \n",
       "TWN1163            Yilan       0    #   \n",
       "TWN1164     Keelung City       0    #   \n",
       "TWN1165           Miaoli       0    #   \n",
       "TWN1166      Taipei City       0    #   \n",
       "TWN1167  New Taipei City       0    #   \n",
       "TWN1168          Taoyuan       0    #   \n",
       "TWN1169         Changhua       0    #   \n",
       "TWN1170           Chiayi       0    #   \n",
       "TWN1171      Chiayi City       0    #   \n",
       "TWN1172          Hualien       0    #   \n",
       "TWN1173           Nantou       0    #   \n",
       "TWN1174    Taichung City       0    #   \n",
       "TWN1176           Yunlin       0    #   \n",
       "TWN1177          Taitung       0    #   \n",
       "TWN3414           Penghu       0    #   \n",
       "TWN3415           Kinmen  Kinmen    #   \n",
       "TWN5128       Lienchiang       0    #   \n",
       "\n",
       "                                           tooltip.content  \n",
       "id                                                          \n",
       "TWN1156        <span style=\\\"font-weight:bold\\\">高雄市</span>  \n",
       "TWN1158        <span style=\\\"font-weight:bold\\\">屏東縣</span>  \n",
       "TWN1160        <span style=\\\"font-weight:bold\\\">台南市</span>  \n",
       "TWN1161        <span style=\\\"font-weight:bold\\\">新竹市</span>  \n",
       "TWN1162        <span style=\\\"font-weight:bold\\\">新竹縣</span>  \n",
       "TWN1163        <span style=\\\"font-weight:bold\\\">宜蘭縣</span>  \n",
       "TWN1164        <span style=\\\"font-weight:bold\\\">基隆市</span>  \n",
       "TWN1165        <span style=\\\"font-weight:bold\\\">苗栗國</span>  \n",
       "TWN1166        <span style=\\\"font-weight:bold\\\">台北市</span>  \n",
       "TWN1167        <span style=\\\"font-weight:bold\\\">新北市</span>  \n",
       "TWN1168        <span style=\\\"font-weight:bold\\\">桃園市</span>  \n",
       "TWN1169        <span style=\\\"font-weight:bold\\\">彰化縣</span>  \n",
       "TWN1170        <span style=\\\"font-weight:bold\\\">嘉義縣</span>  \n",
       "TWN1171        <span style=\\\"font-weight:bold\\\">嘉義市</span>  \n",
       "TWN1172        <span style=\\\"font-weight:bold\\\">花蓮國</span>  \n",
       "TWN1173  <span style=\\\"font-weight:bold\\\">南投縣</span><br...  \n",
       "TWN1174        <span style=\\\"font-weight:bold\\\">台中市</span>  \n",
       "TWN1176        <span style=\\\"font-weight:bold\\\">雲林縣</span>  \n",
       "TWN1177        <span style=\\\"font-weight:bold\\\">台東縣</span>  \n",
       "TWN3414        <span style=\\\"font-weight:bold\\\">澎湖縣</span>  \n",
       "TWN3415        <span style=\\\"font-weight:bold\\\">金門縣</span>  \n",
       "TWN5128        <span style=\\\"font-weight:bold\\\">連江縣</span>  "
      ],
      "text/html": "<div>\n<style scoped>\n    .dataframe tbody tr th:only-of-type {\n        vertical-align: middle;\n    }\n\n    .dataframe tbody tr th {\n        vertical-align: top;\n    }\n\n    .dataframe thead th {\n        text-align: right;\n    }\n</style>\n<table border=\"1\" class=\"dataframe\">\n  <thead>\n    <tr style=\"text-align: right;\">\n      <th></th>\n      <th>cityname</th>\n      <th>value</th>\n      <th>href</th>\n      <th>tooltip.content</th>\n    </tr>\n    <tr>\n      <th>id</th>\n      <th></th>\n      <th></th>\n      <th></th>\n      <th></th>\n    </tr>\n  </thead>\n  <tbody>\n    <tr>\n      <th>TWN1156</th>\n      <td>Kaohsiung City</td>\n      <td>0</td>\n      <td>#</td>\n      <td>&lt;span style=\\\"font-weight:bold\\\"&gt;高雄市&lt;/span&gt;</td>\n    </tr>\n    <tr>\n      <th>TWN1158</th>\n      <td>Pingtung</td>\n      <td>0</td>\n      <td>#</td>\n      <td>&lt;span style=\\\"font-weight:bold\\\"&gt;屏東縣&lt;/span&gt;</td>\n    </tr>\n    <tr>\n      <th>TWN1160</th>\n      <td>Tainan City</td>\n      <td>0</td>\n      <td>#</td>\n      <td>&lt;span style=\\\"font-weight:bold\\\"&gt;台南市&lt;/span&gt;</td>\n    </tr>\n    <tr>\n      <th>TWN1161</th>\n      <td>Hsinchu City</td>\n      <td>0</td>\n      <td>#</td>\n      <td>&lt;span style=\\\"font-weight:bold\\\"&gt;新竹市&lt;/span&gt;</td>\n    </tr>\n    <tr>\n      <th>TWN1162</th>\n      <td>Hsinchu</td>\n      <td>0</td>\n      <td>#</td>\n      <td>&lt;span style=\\\"font-weight:bold\\\"&gt;新竹縣&lt;/span&gt;</td>\n    </tr>\n    <tr>\n      <th>TWN1163</th>\n      <td>Yilan</td>\n      <td>0</td>\n      <td>#</td>\n      <td>&lt;span style=\\\"font-weight:bold\\\"&gt;宜蘭縣&lt;/span&gt;</td>\n    </tr>\n    <tr>\n      <th>TWN1164</th>\n      <td>Keelung City</td>\n      <td>0</td>\n      <td>#</td>\n      <td>&lt;span style=\\\"font-weight:bold\\\"&gt;基隆市&lt;/span&gt;</td>\n    </tr>\n    <tr>\n      <th>TWN1165</th>\n      <td>Miaoli</td>\n      <td>0</td>\n      <td>#</td>\n      <td>&lt;span style=\\\"font-weight:bold\\\"&gt;苗栗國&lt;/span&gt;</td>\n    </tr>\n    <tr>\n      <th>TWN1166</th>\n      <td>Taipei City</td>\n      <td>0</td>\n      <td>#</td>\n      <td>&lt;span style=\\\"font-weight:bold\\\"&gt;台北市&lt;/span&gt;</td>\n    </tr>\n    <tr>\n      <th>TWN1167</th>\n      <td>New Taipei City</td>\n      <td>0</td>\n      <td>#</td>\n      <td>&lt;span style=\\\"font-weight:bold\\\"&gt;新北市&lt;/span&gt;</td>\n    </tr>\n    <tr>\n      <th>TWN1168</th>\n      <td>Taoyuan</td>\n      <td>0</td>\n      <td>#</td>\n      <td>&lt;span style=\\\"font-weight:bold\\\"&gt;桃園市&lt;/span&gt;</td>\n    </tr>\n    <tr>\n      <th>TWN1169</th>\n      <td>Changhua</td>\n      <td>0</td>\n      <td>#</td>\n      <td>&lt;span style=\\\"font-weight:bold\\\"&gt;彰化縣&lt;/span&gt;</td>\n    </tr>\n    <tr>\n      <th>TWN1170</th>\n      <td>Chiayi</td>\n      <td>0</td>\n      <td>#</td>\n      <td>&lt;span style=\\\"font-weight:bold\\\"&gt;嘉義縣&lt;/span&gt;</td>\n    </tr>\n    <tr>\n      <th>TWN1171</th>\n      <td>Chiayi City</td>\n      <td>0</td>\n      <td>#</td>\n      <td>&lt;span style=\\\"font-weight:bold\\\"&gt;嘉義市&lt;/span&gt;</td>\n    </tr>\n    <tr>\n      <th>TWN1172</th>\n      <td>Hualien</td>\n      <td>0</td>\n      <td>#</td>\n      <td>&lt;span style=\\\"font-weight:bold\\\"&gt;花蓮國&lt;/span&gt;</td>\n    </tr>\n    <tr>\n      <th>TWN1173</th>\n      <td>Nantou</td>\n      <td>0</td>\n      <td>#</td>\n      <td>&lt;span style=\\\"font-weight:bold\\\"&gt;南投縣&lt;/span&gt;&lt;br...</td>\n    </tr>\n    <tr>\n      <th>TWN1174</th>\n      <td>Taichung City</td>\n      <td>0</td>\n      <td>#</td>\n      <td>&lt;span style=\\\"font-weight:bold\\\"&gt;台中市&lt;/span&gt;</td>\n    </tr>\n    <tr>\n      <th>TWN1176</th>\n      <td>Yunlin</td>\n      <td>0</td>\n      <td>#</td>\n      <td>&lt;span style=\\\"font-weight:bold\\\"&gt;雲林縣&lt;/span&gt;</td>\n    </tr>\n    <tr>\n      <th>TWN1177</th>\n      <td>Taitung</td>\n      <td>0</td>\n      <td>#</td>\n      <td>&lt;span style=\\\"font-weight:bold\\\"&gt;台東縣&lt;/span&gt;</td>\n    </tr>\n    <tr>\n      <th>TWN3414</th>\n      <td>Penghu</td>\n      <td>0</td>\n      <td>#</td>\n      <td>&lt;span style=\\\"font-weight:bold\\\"&gt;澎湖縣&lt;/span&gt;</td>\n    </tr>\n    <tr>\n      <th>TWN3415</th>\n      <td>Kinmen</td>\n      <td>Kinmen</td>\n      <td>#</td>\n      <td>&lt;span style=\\\"font-weight:bold\\\"&gt;金門縣&lt;/span&gt;</td>\n    </tr>\n    <tr>\n      <th>TWN5128</th>\n      <td>Lienchiang</td>\n      <td>0</td>\n      <td>#</td>\n      <td>&lt;span style=\\\"font-weight:bold\\\"&gt;連江縣&lt;/span&gt;</td>\n    </tr>\n  </tbody>\n</table>\n</div>"
     },
     "metadata": {},
     "execution_count": 6
    }
   ],
   "source": [
    "data1 = pd.read_csv(\"codeset_area1.csv\", index_col = \"id\")\n",
    "data1"
   ]
  },
  {
   "cell_type": "code",
   "execution_count": 7,
   "metadata": {},
   "outputs": [],
   "source": [
    "def output(data, name = \"mapeal_data.txt\"):\n",
    "    index = list(data.index)\n",
    "    columns = list(data.columns)\n",
    "    temp = ''\n",
    "    script = []\n",
    "\n",
    "    def tooltip_pinout(data):\n",
    "        if type(data) != pd.DataFrame:\n",
    "            raise TypeError\n",
    "        tooltip_pin = []\n",
    "        for i in list(data.columns):\n",
    "            # print(len(i))\n",
    "            if len(i) > 6:\n",
    "                # print(i[0:7])\n",
    "                if i[0:7] == 'tooltip':\n",
    "                    tooltip_pin.append(True)\n",
    "                else:\n",
    "                    tooltip_pin.append(False)\n",
    "            else:\n",
    "                tooltip_pin.append(False)\n",
    "        return tooltip_pin\n",
    "    tooltip_pinout = tooltip_pinout(data)\n",
    "\n",
    "    def tooltip_part(data):\n",
    "        tooltip_script = {}\n",
    "        temp1 = ''\n",
    "        for i in range(data.shape[0]):\n",
    "            temp1 = '\\t' + '\"tooltip\":' + \"{\" + \"\\n\"\n",
    "            for j in range(data.shape[1]):\n",
    "                if tooltip_pinout[j]:\n",
    "                    temp1 += '\\t'*2 + '\"' + str(columns[j][8:]) + '\": ' + \"\\n\"\n",
    "                    temp1 +=(\n",
    "                         '\\t'*3 + '\"' + str(data.iloc[i][j]) + '\"' + \n",
    "                         (lambda j: \",\\n\" if j < data.shape[1]-1 else \"\\n\"+'\\t'*2+\"}\")(j))\n",
    "                tooltip_script[index[i]] = temp1\n",
    "            #print(temp1, index[i])\n",
    "        return tooltip_script\n",
    "    tooltip_script = tooltip_part(data)\n",
    "\n",
    "    for i in range(data.shape[0]):\n",
    "        temp = '\"' + str(index[i]) + '\": {' + \"\\n\"\n",
    "        for j in range(data.shape[1]):\n",
    "            if tooltip_pinout[j]:\n",
    "                temp += tooltip_script[index[i]] + (lambda j: \",\" if j < data.shape[1]-1 else \"\")(j)\n",
    "            else:\n",
    "                temp += ('\\t' + '\"' + str(columns[j]) + '\"' + ':' + '\"' + str(data.iloc[i][j]) + '\"' + (lambda j: \",\\n\" if j < data.shape[1]-1 else \"\\n\"+'\\t'+\"}\")(j))\n",
    "        temp += (lambda i: \"\\n\"+'\\t'+\"},\" if i < data.shape[0]-1 else \"\\n\"+'\\t'+\"}\" )(i)\n",
    "        #print(temp)\n",
    "        script.append(temp)\n",
    "\n",
    "    datafile = open(name, 'w+', encoding = \"utf-8\")\n",
    "    datafile.write(\"{\\n\")\n",
    "    for i in script:\n",
    "        datafile.write(\"\\t\")\n",
    "        datafile.write(i)\n",
    "        datafile.write(\"\\n\")\n",
    "    datafile.write(\"}\")\n",
    "    datafile.close()\n",
    "    print(name + \" has saved\")\n",
    "\n",
    "    return script\n",
    "\n"
   ]
  },
  {
   "cell_type": "code",
   "execution_count": 8,
   "metadata": {},
   "outputs": [
    {
     "output_type": "stream",
     "name": "stdout",
     "text": [
      "dataset_area1.json has saved\n"
     ]
    },
    {
     "output_type": "execute_result",
     "data": {
      "text/plain": [
       "['\"TWN1156\": {\\n\\t\"cityname\":\"Kaohsiung City\",\\n\\t\"value\":\"0\",\\n\\t\"href\":\"#\",\\n\\t\"tooltip\":{\\n\\t\\t\"content\": \\n\\t\\t\\t\"<span style=\\\\\"font-weight:bold\\\\\">高雄市</span>\"\\n\\t\\t}\\n\\t},',\n",
       " '\"TWN1158\": {\\n\\t\"cityname\":\"Pingtung\",\\n\\t\"value\":\"0\",\\n\\t\"href\":\"#\",\\n\\t\"tooltip\":{\\n\\t\\t\"content\": \\n\\t\\t\\t\"<span style=\\\\\"font-weight:bold\\\\\">屏東縣</span>\"\\n\\t\\t}\\n\\t},',\n",
       " '\"TWN1160\": {\\n\\t\"cityname\":\"Tainan City\",\\n\\t\"value\":\"0\",\\n\\t\"href\":\"#\",\\n\\t\"tooltip\":{\\n\\t\\t\"content\": \\n\\t\\t\\t\"<span style=\\\\\"font-weight:bold\\\\\">台南市</span>\"\\n\\t\\t}\\n\\t},',\n",
       " '\"TWN1161\": {\\n\\t\"cityname\":\"Hsinchu City\",\\n\\t\"value\":\"0\",\\n\\t\"href\":\"#\",\\n\\t\"tooltip\":{\\n\\t\\t\"content\": \\n\\t\\t\\t\"<span style=\\\\\"font-weight:bold\\\\\">新竹市</span>\"\\n\\t\\t}\\n\\t},',\n",
       " '\"TWN1162\": {\\n\\t\"cityname\":\"Hsinchu\",\\n\\t\"value\":\"0\",\\n\\t\"href\":\"#\",\\n\\t\"tooltip\":{\\n\\t\\t\"content\": \\n\\t\\t\\t\"<span style=\\\\\"font-weight:bold\\\\\">新竹縣</span>\"\\n\\t\\t}\\n\\t},',\n",
       " '\"TWN1163\": {\\n\\t\"cityname\":\"Yilan\",\\n\\t\"value\":\"0\",\\n\\t\"href\":\"#\",\\n\\t\"tooltip\":{\\n\\t\\t\"content\": \\n\\t\\t\\t\"<span style=\\\\\"font-weight:bold\\\\\">宜蘭縣</span>\"\\n\\t\\t}\\n\\t},',\n",
       " '\"TWN1164\": {\\n\\t\"cityname\":\"Keelung City\",\\n\\t\"value\":\"0\",\\n\\t\"href\":\"#\",\\n\\t\"tooltip\":{\\n\\t\\t\"content\": \\n\\t\\t\\t\"<span style=\\\\\"font-weight:bold\\\\\">基隆市</span>\"\\n\\t\\t}\\n\\t},',\n",
       " '\"TWN1165\": {\\n\\t\"cityname\":\"Miaoli\",\\n\\t\"value\":\"0\",\\n\\t\"href\":\"#\",\\n\\t\"tooltip\":{\\n\\t\\t\"content\": \\n\\t\\t\\t\"<span style=\\\\\"font-weight:bold\\\\\">苗栗國</span>\"\\n\\t\\t}\\n\\t},',\n",
       " '\"TWN1166\": {\\n\\t\"cityname\":\"Taipei City\",\\n\\t\"value\":\"0\",\\n\\t\"href\":\"#\",\\n\\t\"tooltip\":{\\n\\t\\t\"content\": \\n\\t\\t\\t\"<span style=\\\\\"font-weight:bold\\\\\">台北市</span>\"\\n\\t\\t}\\n\\t},',\n",
       " '\"TWN1167\": {\\n\\t\"cityname\":\"New Taipei City\",\\n\\t\"value\":\"0\",\\n\\t\"href\":\"#\",\\n\\t\"tooltip\":{\\n\\t\\t\"content\": \\n\\t\\t\\t\"<span style=\\\\\"font-weight:bold\\\\\">新北市</span>\"\\n\\t\\t}\\n\\t},',\n",
       " '\"TWN1168\": {\\n\\t\"cityname\":\"Taoyuan\",\\n\\t\"value\":\"0\",\\n\\t\"href\":\"#\",\\n\\t\"tooltip\":{\\n\\t\\t\"content\": \\n\\t\\t\\t\"<span style=\\\\\"font-weight:bold\\\\\">桃園市</span>\"\\n\\t\\t}\\n\\t},',\n",
       " '\"TWN1169\": {\\n\\t\"cityname\":\"Changhua\",\\n\\t\"value\":\"0\",\\n\\t\"href\":\"#\",\\n\\t\"tooltip\":{\\n\\t\\t\"content\": \\n\\t\\t\\t\"<span style=\\\\\"font-weight:bold\\\\\">彰化縣</span>\"\\n\\t\\t}\\n\\t},',\n",
       " '\"TWN1170\": {\\n\\t\"cityname\":\"Chiayi\",\\n\\t\"value\":\"0\",\\n\\t\"href\":\"#\",\\n\\t\"tooltip\":{\\n\\t\\t\"content\": \\n\\t\\t\\t\"<span style=\\\\\"font-weight:bold\\\\\">嘉義縣</span>\"\\n\\t\\t}\\n\\t},',\n",
       " '\"TWN1171\": {\\n\\t\"cityname\":\"Chiayi City\",\\n\\t\"value\":\"0\",\\n\\t\"href\":\"#\",\\n\\t\"tooltip\":{\\n\\t\\t\"content\": \\n\\t\\t\\t\"<span style=\\\\\"font-weight:bold\\\\\">嘉義市</span>\"\\n\\t\\t}\\n\\t},',\n",
       " '\"TWN1172\": {\\n\\t\"cityname\":\"Hualien\",\\n\\t\"value\":\"0\",\\n\\t\"href\":\"#\",\\n\\t\"tooltip\":{\\n\\t\\t\"content\": \\n\\t\\t\\t\"<span style=\\\\\"font-weight:bold\\\\\">花蓮國</span>\"\\n\\t\\t}\\n\\t},',\n",
       " '\"TWN1173\": {\\n\\t\"cityname\":\"Nantou\",\\n\\t\"value\":\"0\",\\n\\t\"href\":\"#\",\\n\\t\"tooltip\":{\\n\\t\\t\"content\": \\n\\t\\t\\t\"<span style=\\\\\"font-weight:bold\\\\\">南投縣</span><br>不口交</br>\"\\n\\t\\t}\\n\\t},',\n",
       " '\"TWN1174\": {\\n\\t\"cityname\":\"Taichung City\",\\n\\t\"value\":\"0\",\\n\\t\"href\":\"#\",\\n\\t\"tooltip\":{\\n\\t\\t\"content\": \\n\\t\\t\\t\"<span style=\\\\\"font-weight:bold\\\\\">台中市</span>\"\\n\\t\\t}\\n\\t},',\n",
       " '\"TWN1176\": {\\n\\t\"cityname\":\"Yunlin\",\\n\\t\"value\":\"0\",\\n\\t\"href\":\"#\",\\n\\t\"tooltip\":{\\n\\t\\t\"content\": \\n\\t\\t\\t\"<span style=\\\\\"font-weight:bold\\\\\">雲林縣</span>\"\\n\\t\\t}\\n\\t},',\n",
       " '\"TWN1177\": {\\n\\t\"cityname\":\"Taitung\",\\n\\t\"value\":\"0\",\\n\\t\"href\":\"#\",\\n\\t\"tooltip\":{\\n\\t\\t\"content\": \\n\\t\\t\\t\"<span style=\\\\\"font-weight:bold\\\\\">台東縣</span>\"\\n\\t\\t}\\n\\t},',\n",
       " '\"TWN3414\": {\\n\\t\"cityname\":\"Penghu\",\\n\\t\"value\":\"0\",\\n\\t\"href\":\"#\",\\n\\t\"tooltip\":{\\n\\t\\t\"content\": \\n\\t\\t\\t\"<span style=\\\\\"font-weight:bold\\\\\">澎湖縣</span>\"\\n\\t\\t}\\n\\t},',\n",
       " '\"TWN3415\": {\\n\\t\"cityname\":\"Kinmen\",\\n\\t\"value\":\"Kinmen\",\\n\\t\"href\":\"#\",\\n\\t\"tooltip\":{\\n\\t\\t\"content\": \\n\\t\\t\\t\"<span style=\\\\\"font-weight:bold\\\\\">金門縣</span>\"\\n\\t\\t}\\n\\t},',\n",
       " '\"TWN5128\": {\\n\\t\"cityname\":\"Lienchiang\",\\n\\t\"value\":\"0\",\\n\\t\"href\":\"#\",\\n\\t\"tooltip\":{\\n\\t\\t\"content\": \\n\\t\\t\\t\"<span style=\\\\\"font-weight:bold\\\\\">連江縣</span>\"\\n\\t\\t}\\n\\t}']"
      ]
     },
     "metadata": {},
     "execution_count": 8
    }
   ],
   "source": [
    "output(data1, \"dataset_area1.json\")"
   ]
  },
  {
   "source": [
    "## test cell"
   ],
   "cell_type": "markdown",
   "metadata": {}
  },
  {
   "cell_type": "code",
   "execution_count": 160,
   "metadata": {},
   "outputs": [
    {
     "output_type": "execute_result",
     "data": {
      "text/plain": [
       "['TWN1156',\n",
       " 'TWN1158',\n",
       " 'TWN1160',\n",
       " 'TWN1161',\n",
       " 'TWN1162',\n",
       " 'TWN1163',\n",
       " 'TWN1164',\n",
       " 'TWN1165',\n",
       " 'TWN1166',\n",
       " 'TWN1167',\n",
       " 'TWN1168',\n",
       " 'TWN1169',\n",
       " 'TWN1170',\n",
       " 'TWN1171',\n",
       " 'TWN1172',\n",
       " 'TWN1173',\n",
       " 'TWN1174',\n",
       " 'TWN1176',\n",
       " 'TWN1177',\n",
       " 'TWN3414',\n",
       " 'TWN3415',\n",
       " 'TWN5128']"
      ]
     },
     "metadata": {},
     "execution_count": 160
    }
   ],
   "source": [
    "list(data1.index)"
   ]
  },
  {
   "cell_type": "code",
   "execution_count": 162,
   "metadata": {},
   "outputs": [
    {
     "output_type": "execute_result",
     "data": {
      "text/plain": [
       "[False, False, True]"
      ]
     },
     "metadata": {},
     "execution_count": 162
    }
   ],
   "source": [
    "def tooltip_pinout(data):\n",
    "    if type(data) != pd.DataFrame:\n",
    "        raise TypeError\n",
    "    tooltip_pin = []\n",
    "    for i in list(data.columns):\n",
    "        # print(len(i))\n",
    "        if len(i) > 6:\n",
    "            # print(i[0:7])\n",
    "            if i[0:7] == 'tooltip':\n",
    "                tooltip_pin.append(True)\n",
    "            else:\n",
    "                tooltip_pin.append(False)\n",
    "        else:\n",
    "            tooltip_pin.append(False)\n",
    "    return tooltip_pin\n",
    "\n",
    "tooltip_pinout(data1)"
   ]
  },
  {
   "cell_type": "code",
   "execution_count": 161,
   "metadata": {},
   "outputs": [
    {
     "output_type": "execute_result",
     "data": {
      "text/plain": [
       "['value', 'href', 'tooltip.content']"
      ]
     },
     "metadata": {},
     "execution_count": 161
    }
   ],
   "source": [
    "list(data1.columns)"
   ]
  },
  {
   "cell_type": "code",
   "execution_count": 163,
   "metadata": {},
   "outputs": [
    {
     "output_type": "execute_result",
     "data": {
      "text/plain": [
       "'Kaohsiung City'"
      ]
     },
     "metadata": {},
     "execution_count": 163
    }
   ],
   "source": [
    "data1.iloc[0][0]"
   ]
  },
  {
   "cell_type": "code",
   "execution_count": 164,
   "metadata": {},
   "outputs": [
    {
     "output_type": "execute_result",
     "data": {
      "text/plain": [
       "'Pingtung'"
      ]
     },
     "metadata": {},
     "execution_count": 164
    }
   ],
   "source": [
    "data1.loc['TWN1158']['value']"
   ]
  },
  {
   "cell_type": "code",
   "execution_count": 165,
   "metadata": {},
   "outputs": [
    {
     "output_type": "execute_result",
     "data": {
      "text/plain": [
       "                  value href                            tooltip.content\n",
       "id                                                                     \n",
       "TWN1156  Kaohsiung City    #  <span style=\\font-weight:bold\\>高雄市</span>\n",
       "TWN1158        Pingtung    #  <span style=\\font-weight:bold\\>屏東縣</span>"
      ],
      "text/html": "<div>\n<style scoped>\n    .dataframe tbody tr th:only-of-type {\n        vertical-align: middle;\n    }\n\n    .dataframe tbody tr th {\n        vertical-align: top;\n    }\n\n    .dataframe thead th {\n        text-align: right;\n    }\n</style>\n<table border=\"1\" class=\"dataframe\">\n  <thead>\n    <tr style=\"text-align: right;\">\n      <th></th>\n      <th>value</th>\n      <th>href</th>\n      <th>tooltip.content</th>\n    </tr>\n    <tr>\n      <th>id</th>\n      <th></th>\n      <th></th>\n      <th></th>\n    </tr>\n  </thead>\n  <tbody>\n    <tr>\n      <th>TWN1156</th>\n      <td>Kaohsiung City</td>\n      <td>#</td>\n      <td>&lt;span style=\\font-weight:bold\\&gt;高雄市&lt;/span&gt;</td>\n    </tr>\n    <tr>\n      <th>TWN1158</th>\n      <td>Pingtung</td>\n      <td>#</td>\n      <td>&lt;span style=\\font-weight:bold\\&gt;屏東縣&lt;/span&gt;</td>\n    </tr>\n  </tbody>\n</table>\n</div>"
     },
     "metadata": {},
     "execution_count": 165
    }
   ],
   "source": [
    "data1.iloc[0:2]"
   ]
  },
  {
   "cell_type": "code",
   "execution_count": 182,
   "metadata": {
    "tags": []
   },
   "outputs": [
    {
     "output_type": "stream",
     "name": "stdout",
     "text": [
      "\t\"tooltip\":{\n\t\t\"content\": \n\t\t\t\"<span style=\\font-weight:bold\\>高雄市</span>\"\n\t\t} TWN1156\n\t\"tooltip\":{\n\t\t\"content\": \n\t\t\t\"<span style=\\font-weight:bold\\>屏東縣</span>\"\n\t\t} TWN1158\n\t\"tooltip\":{\n\t\t\"content\": \n\t\t\t\"<span style=\\font-weight:bold\\>台南市</span>\"\n\t\t} TWN1160\n\t\"tooltip\":{\n\t\t\"content\": \n\t\t\t\"<span style=\\font-weight:bold\\>新竹市</span>\"\n\t\t} TWN1161\n\t\"tooltip\":{\n\t\t\"content\": \n\t\t\t\"<span style=\\font-weight:bold\\>新竹縣</span>\"\n\t\t} TWN1162\n\t\"tooltip\":{\n\t\t\"content\": \n\t\t\t\"<span style=\\font-weight:bold\\>宜蘭縣</span>\"\n\t\t} TWN1163\n\t\"tooltip\":{\n\t\t\"content\": \n\t\t\t\"<span style=\\font-weight:bold\\>基隆市</span>\"\n\t\t} TWN1164\n\t\"tooltip\":{\n\t\t\"content\": \n\t\t\t\"<span style=\\font-weight:bold\\>苗栗國</span>\"\n\t\t} TWN1165\n\t\"tooltip\":{\n\t\t\"content\": \n\t\t\t\"<span style=\\font-weight:bold\\>台北市</span>\"\n\t\t} TWN1166\n\t\"tooltip\":{\n\t\t\"content\": \n\t\t\t\"<span style=\\font-weight:bold\\>新北市</span>\"\n\t\t} TWN1167\n\t\"tooltip\":{\n\t\t\"content\": \n\t\t\t\"<span style=\\font-weight:bold\\>桃園市</span>\"\n\t\t} TWN1168\n\t\"tooltip\":{\n\t\t\"content\": \n\t\t\t\"<span style=\\font-weight:bold\\>彰化縣</span>\"\n\t\t} TWN1169\n\t\"tooltip\":{\n\t\t\"content\": \n\t\t\t\"<span style=\\font-weight:bold\\>嘉義縣</span>\"\n\t\t} TWN1170\n\t\"tooltip\":{\n\t\t\"content\": \n\t\t\t\"<span style=\\font-weight:bold\\>嘉義市</span>\"\n\t\t} TWN1171\n\t\"tooltip\":{\n\t\t\"content\": \n\t\t\t\"<span style=\\font-weight:bold\\>花蓮國</span>\"\n\t\t} TWN1172\n\t\"tooltip\":{\n\t\t\"content\": \n\t\t\t\"<span style=\\font-weight:bold\\>南投縣</span><br>不口交</br>\"\n\t\t} TWN1173\n\t\"tooltip\":{\n\t\t\"content\": \n\t\t\t\"<span style=\\font-weight:bold\\>台中市</span>\"\n\t\t} TWN1174\n\t\"tooltip\":{\n\t\t\"content\": \n\t\t\t\"<span style=\\font-weight:bold\\>雲林縣</span>\"\n\t\t} TWN1176\n\t\"tooltip\":{\n\t\t\"content\": \n\t\t\t\"<span style=\\font-weight:bold\\>台東縣</span>\"\n\t\t} TWN1177\n\t\"tooltip\":{\n\t\t\"content\": \n\t\t\t\"<span style=\\font-weight:bold\\>澎湖縣</span>\"\n\t\t} TWN3414\n\t\"tooltip\":{\n\t\t\"content\": \n\t\t\t\"<span style=\\font-weight:bold\\>金門縣</span>\"\n\t\t} TWN3415\n\t\"tooltip\":{\n\t\t\"content\": \n\t\t\t\"<span style=\\font-weight:bold\\>連江縣</span>\"\n\t\t} TWN5128\n\"TWN1156\": {\n\t\"value\":\"Kaohsiung City\",\n\t\"href\":\"#\",\n\t\"tooltip\":{\n\t\t\"content\": \n\t\t\t\"<span style=\\font-weight:bold\\>高雄市</span>\"\n\t\t}\n\t},\n\"TWN1158\": {\n\t\"value\":\"Pingtung\",\n\t\"href\":\"#\",\n\t\"tooltip\":{\n\t\t\"content\": \n\t\t\t\"<span style=\\font-weight:bold\\>屏東縣</span>\"\n\t\t}\n\t},\n\"TWN1160\": {\n\t\"value\":\"Tainan City\",\n\t\"href\":\"#\",\n\t\"tooltip\":{\n\t\t\"content\": \n\t\t\t\"<span style=\\font-weight:bold\\>台南市</span>\"\n\t\t}\n\t},\n\"TWN1161\": {\n\t\"value\":\"Hsinchu City\",\n\t\"href\":\"#\",\n\t\"tooltip\":{\n\t\t\"content\": \n\t\t\t\"<span style=\\font-weight:bold\\>新竹市</span>\"\n\t\t}\n\t},\n\"TWN1162\": {\n\t\"value\":\"Hsinchu\",\n\t\"href\":\"#\",\n\t\"tooltip\":{\n\t\t\"content\": \n\t\t\t\"<span style=\\font-weight:bold\\>新竹縣</span>\"\n\t\t}\n\t},\n\"TWN1163\": {\n\t\"value\":\"Yilan\",\n\t\"href\":\"#\",\n\t\"tooltip\":{\n\t\t\"content\": \n\t\t\t\"<span style=\\font-weight:bold\\>宜蘭縣</span>\"\n\t\t}\n\t},\n\"TWN1164\": {\n\t\"value\":\"Keelung City\",\n\t\"href\":\"#\",\n\t\"tooltip\":{\n\t\t\"content\": \n\t\t\t\"<span style=\\font-weight:bold\\>基隆市</span>\"\n\t\t}\n\t},\n\"TWN1165\": {\n\t\"value\":\"Miaoli\",\n\t\"href\":\"#\",\n\t\"tooltip\":{\n\t\t\"content\": \n\t\t\t\"<span style=\\font-weight:bold\\>苗栗國</span>\"\n\t\t}\n\t},\n\"TWN1166\": {\n\t\"value\":\"Taipei City\",\n\t\"href\":\"#\",\n\t\"tooltip\":{\n\t\t\"content\": \n\t\t\t\"<span style=\\font-weight:bold\\>台北市</span>\"\n\t\t}\n\t},\n\"TWN1167\": {\n\t\"value\":\"New Taipei City\",\n\t\"href\":\"#\",\n\t\"tooltip\":{\n\t\t\"content\": \n\t\t\t\"<span style=\\font-weight:bold\\>新北市</span>\"\n\t\t}\n\t},\n\"TWN1168\": {\n\t\"value\":\"Taoyuan\",\n\t\"href\":\"#\",\n\t\"tooltip\":{\n\t\t\"content\": \n\t\t\t\"<span style=\\font-weight:bold\\>桃園市</span>\"\n\t\t}\n\t},\n\"TWN1169\": {\n\t\"value\":\"Changhua\",\n\t\"href\":\"#\",\n\t\"tooltip\":{\n\t\t\"content\": \n\t\t\t\"<span style=\\font-weight:bold\\>彰化縣</span>\"\n\t\t}\n\t},\n\"TWN1170\": {\n\t\"value\":\"Chiayi\",\n\t\"href\":\"#\",\n\t\"tooltip\":{\n\t\t\"content\": \n\t\t\t\"<span style=\\font-weight:bold\\>嘉義縣</span>\"\n\t\t}\n\t},\n\"TWN1171\": {\n\t\"value\":\"Chiayi City\",\n\t\"href\":\"#\",\n\t\"tooltip\":{\n\t\t\"content\": \n\t\t\t\"<span style=\\font-weight:bold\\>嘉義市</span>\"\n\t\t}\n\t},\n\"TWN1172\": {\n\t\"value\":\"Hualien\",\n\t\"href\":\"#\",\n\t\"tooltip\":{\n\t\t\"content\": \n\t\t\t\"<span style=\\font-weight:bold\\>花蓮國</span>\"\n\t\t}\n\t},\n\"TWN1173\": {\n\t\"value\":\"Nantou\",\n\t\"href\":\"#\",\n\t\"tooltip\":{\n\t\t\"content\": \n\t\t\t\"<span style=\\font-weight:bold\\>南投縣</span><br>不口交</br>\"\n\t\t}\n\t},\n\"TWN1174\": {\n\t\"value\":\"Taichung City\",\n\t\"href\":\"#\",\n\t\"tooltip\":{\n\t\t\"content\": \n\t\t\t\"<span style=\\font-weight:bold\\>台中市</span>\"\n\t\t}\n\t},\n\"TWN1176\": {\n\t\"value\":\"Yunlin\",\n\t\"href\":\"#\",\n\t\"tooltip\":{\n\t\t\"content\": \n\t\t\t\"<span style=\\font-weight:bold\\>雲林縣</span>\"\n\t\t}\n\t},\n\"TWN1177\": {\n\t\"value\":\"Taitung\",\n\t\"href\":\"#\",\n\t\"tooltip\":{\n\t\t\"content\": \n\t\t\t\"<span style=\\font-weight:bold\\>台東縣</span>\"\n\t\t}\n\t},\n\"TWN3414\": {\n\t\"value\":\"Penghu\",\n\t\"href\":\"#\",\n\t\"tooltip\":{\n\t\t\"content\": \n\t\t\t\"<span style=\\font-weight:bold\\>澎湖縣</span>\"\n\t\t}\n\t},\n\"TWN3415\": {\n\t\"value\":\"Kinmen\",\n\t\"href\":\"#\",\n\t\"tooltip\":{\n\t\t\"content\": \n\t\t\t\"<span style=\\font-weight:bold\\>金門縣</span>\"\n\t\t}\n\t},\n\"TWN5128\": {\n\t\"value\":\"Lienchiang\",\n\t\"href\":\"#\",\n\t\"tooltip\":{\n\t\t\"content\": \n\t\t\t\"<span style=\\font-weight:bold\\>連江縣</span>\"\n\t\t}\n\t}\nmapeal_data.txt has saved\n"
     ]
    },
    {
     "output_type": "execute_result",
     "data": {
      "text/plain": [
       "['\"TWN1156\": {\\n\\t\"value\":\"Kaohsiung City\",\\n\\t\"href\":\"#\",\\n\\t\"tooltip\":{\\n\\t\\t\"content\": \\n\\t\\t\\t\"<span style=\\\\font-weight:bold\\\\>高雄市</span>\"\\n\\t\\t}\\n\\t},',\n",
       " '\"TWN1158\": {\\n\\t\"value\":\"Pingtung\",\\n\\t\"href\":\"#\",\\n\\t\"tooltip\":{\\n\\t\\t\"content\": \\n\\t\\t\\t\"<span style=\\\\font-weight:bold\\\\>屏東縣</span>\"\\n\\t\\t}\\n\\t},',\n",
       " '\"TWN1160\": {\\n\\t\"value\":\"Tainan City\",\\n\\t\"href\":\"#\",\\n\\t\"tooltip\":{\\n\\t\\t\"content\": \\n\\t\\t\\t\"<span style=\\\\font-weight:bold\\\\>台南市</span>\"\\n\\t\\t}\\n\\t},',\n",
       " '\"TWN1161\": {\\n\\t\"value\":\"Hsinchu City\",\\n\\t\"href\":\"#\",\\n\\t\"tooltip\":{\\n\\t\\t\"content\": \\n\\t\\t\\t\"<span style=\\\\font-weight:bold\\\\>新竹市</span>\"\\n\\t\\t}\\n\\t},',\n",
       " '\"TWN1162\": {\\n\\t\"value\":\"Hsinchu\",\\n\\t\"href\":\"#\",\\n\\t\"tooltip\":{\\n\\t\\t\"content\": \\n\\t\\t\\t\"<span style=\\\\font-weight:bold\\\\>新竹縣</span>\"\\n\\t\\t}\\n\\t},',\n",
       " '\"TWN1163\": {\\n\\t\"value\":\"Yilan\",\\n\\t\"href\":\"#\",\\n\\t\"tooltip\":{\\n\\t\\t\"content\": \\n\\t\\t\\t\"<span style=\\\\font-weight:bold\\\\>宜蘭縣</span>\"\\n\\t\\t}\\n\\t},',\n",
       " '\"TWN1164\": {\\n\\t\"value\":\"Keelung City\",\\n\\t\"href\":\"#\",\\n\\t\"tooltip\":{\\n\\t\\t\"content\": \\n\\t\\t\\t\"<span style=\\\\font-weight:bold\\\\>基隆市</span>\"\\n\\t\\t}\\n\\t},',\n",
       " '\"TWN1165\": {\\n\\t\"value\":\"Miaoli\",\\n\\t\"href\":\"#\",\\n\\t\"tooltip\":{\\n\\t\\t\"content\": \\n\\t\\t\\t\"<span style=\\\\font-weight:bold\\\\>苗栗國</span>\"\\n\\t\\t}\\n\\t},',\n",
       " '\"TWN1166\": {\\n\\t\"value\":\"Taipei City\",\\n\\t\"href\":\"#\",\\n\\t\"tooltip\":{\\n\\t\\t\"content\": \\n\\t\\t\\t\"<span style=\\\\font-weight:bold\\\\>台北市</span>\"\\n\\t\\t}\\n\\t},',\n",
       " '\"TWN1167\": {\\n\\t\"value\":\"New Taipei City\",\\n\\t\"href\":\"#\",\\n\\t\"tooltip\":{\\n\\t\\t\"content\": \\n\\t\\t\\t\"<span style=\\\\font-weight:bold\\\\>新北市</span>\"\\n\\t\\t}\\n\\t},',\n",
       " '\"TWN1168\": {\\n\\t\"value\":\"Taoyuan\",\\n\\t\"href\":\"#\",\\n\\t\"tooltip\":{\\n\\t\\t\"content\": \\n\\t\\t\\t\"<span style=\\\\font-weight:bold\\\\>桃園市</span>\"\\n\\t\\t}\\n\\t},',\n",
       " '\"TWN1169\": {\\n\\t\"value\":\"Changhua\",\\n\\t\"href\":\"#\",\\n\\t\"tooltip\":{\\n\\t\\t\"content\": \\n\\t\\t\\t\"<span style=\\\\font-weight:bold\\\\>彰化縣</span>\"\\n\\t\\t}\\n\\t},',\n",
       " '\"TWN1170\": {\\n\\t\"value\":\"Chiayi\",\\n\\t\"href\":\"#\",\\n\\t\"tooltip\":{\\n\\t\\t\"content\": \\n\\t\\t\\t\"<span style=\\\\font-weight:bold\\\\>嘉義縣</span>\"\\n\\t\\t}\\n\\t},',\n",
       " '\"TWN1171\": {\\n\\t\"value\":\"Chiayi City\",\\n\\t\"href\":\"#\",\\n\\t\"tooltip\":{\\n\\t\\t\"content\": \\n\\t\\t\\t\"<span style=\\\\font-weight:bold\\\\>嘉義市</span>\"\\n\\t\\t}\\n\\t},',\n",
       " '\"TWN1172\": {\\n\\t\"value\":\"Hualien\",\\n\\t\"href\":\"#\",\\n\\t\"tooltip\":{\\n\\t\\t\"content\": \\n\\t\\t\\t\"<span style=\\\\font-weight:bold\\\\>花蓮國</span>\"\\n\\t\\t}\\n\\t},',\n",
       " '\"TWN1173\": {\\n\\t\"value\":\"Nantou\",\\n\\t\"href\":\"#\",\\n\\t\"tooltip\":{\\n\\t\\t\"content\": \\n\\t\\t\\t\"<span style=\\\\font-weight:bold\\\\>南投縣</span><br>不口交</br>\"\\n\\t\\t}\\n\\t},',\n",
       " '\"TWN1174\": {\\n\\t\"value\":\"Taichung City\",\\n\\t\"href\":\"#\",\\n\\t\"tooltip\":{\\n\\t\\t\"content\": \\n\\t\\t\\t\"<span style=\\\\font-weight:bold\\\\>台中市</span>\"\\n\\t\\t}\\n\\t},',\n",
       " '\"TWN1176\": {\\n\\t\"value\":\"Yunlin\",\\n\\t\"href\":\"#\",\\n\\t\"tooltip\":{\\n\\t\\t\"content\": \\n\\t\\t\\t\"<span style=\\\\font-weight:bold\\\\>雲林縣</span>\"\\n\\t\\t}\\n\\t},',\n",
       " '\"TWN1177\": {\\n\\t\"value\":\"Taitung\",\\n\\t\"href\":\"#\",\\n\\t\"tooltip\":{\\n\\t\\t\"content\": \\n\\t\\t\\t\"<span style=\\\\font-weight:bold\\\\>台東縣</span>\"\\n\\t\\t}\\n\\t},',\n",
       " '\"TWN3414\": {\\n\\t\"value\":\"Penghu\",\\n\\t\"href\":\"#\",\\n\\t\"tooltip\":{\\n\\t\\t\"content\": \\n\\t\\t\\t\"<span style=\\\\font-weight:bold\\\\>澎湖縣</span>\"\\n\\t\\t}\\n\\t},',\n",
       " '\"TWN3415\": {\\n\\t\"value\":\"Kinmen\",\\n\\t\"href\":\"#\",\\n\\t\"tooltip\":{\\n\\t\\t\"content\": \\n\\t\\t\\t\"<span style=\\\\font-weight:bold\\\\>金門縣</span>\"\\n\\t\\t}\\n\\t},',\n",
       " '\"TWN5128\": {\\n\\t\"value\":\"Lienchiang\",\\n\\t\"href\":\"#\",\\n\\t\"tooltip\":{\\n\\t\\t\"content\": \\n\\t\\t\\t\"<span style=\\\\font-weight:bold\\\\>連江縣</span>\"\\n\\t\\t}\\n\\t}']"
      ]
     },
     "metadata": {},
     "execution_count": 182
    }
   ],
   "source": [
    "output(data1)"
   ]
  },
  {
   "cell_type": "code",
   "execution_count": null,
   "metadata": {},
   "outputs": [],
   "source": []
  }
 ]
}